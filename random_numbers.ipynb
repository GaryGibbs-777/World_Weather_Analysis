{
 "cells": [
  {
   "cell_type": "code",
   "execution_count": 9,
   "id": "a287108c",
   "metadata": {},
   "outputs": [],
   "source": [
    "# importing the random module\n",
    "import random"
   ]
  },
  {
   "cell_type": "code",
   "execution_count": 10,
   "id": "a51db6f4",
   "metadata": {},
   "outputs": [],
   "source": [
    "x = 1\n",
    "latitudes = []\n",
    "while x < 11:\n",
    "    random_lat = random.randint(-90, 89) + random.random()\n",
    "    latitudes.append(random_lat)\n",
    "    x += 1"
   ]
  },
  {
   "cell_type": "code",
   "execution_count": 11,
   "id": "b50ebd85",
   "metadata": {},
   "outputs": [
    {
     "data": {
      "text/plain": [
       "[61.892203247625176,\n",
       " -74.94065203104,\n",
       " -65.86896269397185,\n",
       " -41.462634950008436,\n",
       " 18.472774392026466,\n",
       " 76.55552587203745,\n",
       " 85.52453324752618,\n",
       " -17.012660373123524,\n",
       " -43.59393822235883,\n",
       " 41.92345726149842]"
      ]
     },
     "execution_count": 11,
     "metadata": {},
     "output_type": "execute_result"
    }
   ],
   "source": [
    "latitudes"
   ]
  },
  {
   "cell_type": "code",
   "execution_count": 12,
   "id": "8555d83c",
   "metadata": {},
   "outputs": [],
   "source": [
    "# Import the NumPy module\n",
    "import numpy as np"
   ]
  },
  {
   "cell_type": "code",
   "execution_count": 13,
   "id": "bd3bf32a",
   "metadata": {},
   "outputs": [
    {
     "data": {
      "text/plain": [
       "array([ 73.31982116, -18.58348403,  43.70253445,  78.80861514,\n",
       "        85.1004801 , -18.98210647, -47.0092712 ,  88.46277995,\n",
       "        32.46870438,  64.49898422, -45.16506247,  72.92722682,\n",
       "       -36.52095044,  89.5053238 , -30.70407409,  37.62410698,\n",
       "       -61.05306323,  35.79683853,  12.58049266, -59.79220311,\n",
       "       -53.55300617,  42.35614861, -13.28161101, -55.99878081,\n",
       "        14.15799788,  13.78957836, -22.59790305,  -6.97072655,\n",
       "       -28.59008845,   2.88247218,  79.91738772, -30.72786022,\n",
       "        46.91855015, -19.70183227,  27.35716779, -45.14565016,\n",
       "        38.29831153, -83.30031841,  32.25725648, -14.29971783,\n",
       "       -73.98231097,  55.92402311, -13.82858068, -17.46512718,\n",
       "       -83.00255231, -35.04437553,  20.81213985, -58.62011286,\n",
       "       -24.27577012, -73.36863607])"
      ]
     },
     "execution_count": 13,
     "metadata": {},
     "output_type": "execute_result"
    }
   ],
   "source": [
    "np.random.uniform(-90.000, 90.000, size=50)"
   ]
  },
  {
   "cell_type": "code",
   "execution_count": 14,
   "id": "74bc2ea3",
   "metadata": {},
   "outputs": [],
   "source": [
    "# import timeit.\n",
    "import timeit"
   ]
  },
  {
   "cell_type": "code",
   "execution_count": 15,
   "id": "32d40b92",
   "metadata": {},
   "outputs": [
    {
     "name": "stdout",
     "output_type": "stream",
     "text": [
      "13.7 µs ± 307 ns per loop (mean ± std. dev. of 7 runs, 100000 loops each)\n"
     ]
    }
   ],
   "source": [
    "%timeit np.random.uniform(-90.000, 90.000, size=1500)"
   ]
  },
  {
   "cell_type": "code",
   "execution_count": 17,
   "id": "79162d39",
   "metadata": {},
   "outputs": [
    {
     "name": "stdout",
     "output_type": "stream",
     "text": [
      "1.27 ms ± 33.6 µs per loop (mean ± std. dev. of 7 runs, 1000 loops each)\n"
     ]
    }
   ],
   "source": [
    "def latitudes(size):\n",
    "    latitudes = []\n",
    "    x = 0\n",
    "    while x < (size):\n",
    "        random_lat = random.randint(-90, 90) + random.random()\n",
    "        latitudes.append(random_lat)\n",
    "        x += 1\n",
    "    return latitudes\n",
    "# Call the function with 1500.\n",
    "%timeit latitudes(1500)"
   ]
  },
  {
   "cell_type": "code",
   "execution_count": null,
   "id": "80507452",
   "metadata": {},
   "outputs": [],
   "source": []
  },
  {
   "cell_type": "code",
   "execution_count": null,
   "id": "0d515b3b",
   "metadata": {},
   "outputs": [],
   "source": []
  }
 ],
 "metadata": {
  "kernelspec": {
   "display_name": "Python 3 (ipykernel)",
   "language": "python",
   "name": "python3"
  },
  "language_info": {
   "codemirror_mode": {
    "name": "ipython",
    "version": 3
   },
   "file_extension": ".py",
   "mimetype": "text/x-python",
   "name": "python",
   "nbconvert_exporter": "python",
   "pygments_lexer": "ipython3",
   "version": "3.9.7"
  }
 },
 "nbformat": 4,
 "nbformat_minor": 5
}
